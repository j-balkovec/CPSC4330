{
 "cells": [
  {
   "cell_type": "markdown",
   "metadata": {},
   "source": [
    "# Exercise 10 | RDDs\n",
    "\n",
    "Data files used in this task are located on HDFS in the following directory: `/loudacre/weblogs`. You may wish to perform the exercise below using a smaller dataset, consisting of only a few of the web log files, rather than all of them (which can take a lot of time). You can specify a wildcard, e.g., `/loudacre/weblogs/*6.log` would include only log files whose names end with the digit `6`.\n",
    "\n",
    "## 1. Count the Number of Requests from Each User\n",
    "\n",
    "Using map-reduce, count the number of requests from each user:\n",
    "\n",
    "1. Use `map` to create a Pair RDD with the user ID as the key and the integer `1` as the value.  \n",
    "   - *(The user ID is the third field in each line of the log file.)*\n",
    "2. Use `reduce` to sum the values for each user ID.\n",
    "\n",
    "## 2. Determine User Visit Frequency\n",
    "\n",
    "Determine how many users visited the site for each frequency. That is, how many users visited once, twice, three times, and so on.\n",
    "\n",
    "1. Use `map` to reverse the key and value from the result of step 1.\n",
    "2. Use the `countByKey` action to return a Map (data structure) of frequency:user-count pairs.\n",
    "\n",
    "## 3. Create an RDD of Users and Their IP Addresses\n",
    "\n",
    "Create an RDD where the user ID is the key, and the value is the list of all the IP addresses that the user has connected from.  \n",
    "*(IP address is the first field in each line of the log file.)*\n",
    "\n",
    "1. Use `map` to create a Pair RDD with the user ID as the key and the IP address as the value.\n",
    "2. Use `groupByKey` to group the list of all the IP addresses that the user has connected from.\n",
    "3. You can use the following code to print out the first 5 user IDs and their IP lists:\n",
    "\n",
    "```python\n",
    "# \"userips\" is the name of the RDD where the user ID is the key,\n",
    "# and the value is the list of all the IP addresses that user has connected from.\n",
    "for (userid, ips) in userips.take(5):\n",
    "    print(userid, \":\")\n",
    "    for ip in ips:\n",
    "        print(\"\\t\", ip)\n",
    "```\n"
   ]
  },
  {
   "cell_type": "markdown",
   "metadata": {},
   "source": [
    "## Step 1: Count the Number of Requests from Each User"
   ]
  },
  {
   "cell_type": "code",
   "execution_count": null,
   "metadata": {},
   "outputs": [],
   "source": [
    "from pyspark import SparkContext\n",
    "\n",
    "sc = SparkContext(\"local\", \"WebLogAnalysis\")\n",
    "\n",
    "# load\n",
    "logs = sc.textFile(\"/loudacre/weblogs/*\")\n",
    "\n",
    "# extract userID (third field) and map to (user_id, 1)\n",
    "user_requests = logs.map(lambda line: (line.split()[2], 1))\n",
    "\n",
    "# reduce by key\n",
    "user_request_counts = user_requests.reduceByKey(lambda a, b: a + b)\n",
    "\n",
    "# print results (first 10)\n",
    "for user, count in user_request_counts.take(10):\n",
    "    print(user, count)"
   ]
  },
  {
   "cell_type": "markdown",
   "metadata": {},
   "source": [
    "## Step 2: Determine User Visit Frequency"
   ]
  },
  {
   "cell_type": "code",
   "execution_count": null,
   "metadata": {},
   "outputs": [],
   "source": [
    "# reverse KVPs: (count, user_id) -> (visit_count, 1)\n",
    "visit_frequencies = user_request_counts.map(lambda x: (x[1], 1))\n",
    "\n",
    "# count\n",
    "frequency_count = visit_frequencies.countByKey()\n",
    "\n",
    "# print\n",
    "for visits, count in sorted(frequency_count.items()):\n",
    "    print(f\"Users who visited {visits} times: {count}\")"
   ]
  },
  {
   "cell_type": "markdown",
   "metadata": {},
   "source": [
    "## Step 3: Create an RDD of Users and Their IP Addresses"
   ]
  },
  {
   "cell_type": "code",
   "execution_count": null,
   "metadata": {},
   "outputs": [],
   "source": [
    "# extract userID (third field) and IP (first field) -> (user_id, ip)\n",
    "user_ips = logs.map(lambda line: (line.split()[2], line.split()[0]))\n",
    "\n",
    "# group IPs by user\n",
    "user_ips_grouped = user_ips.groupByKey()\n",
    "\n",
    "# print first 5\n",
    "for userid, ips in user_ips_grouped.take(5):\n",
    "    print(userid, \":\")\n",
    "    for ip in ips:\n",
    "        print(\"\\t\", ip)"
   ]
  }
 ],
 "metadata": {
  "kernelspec": {
   "display_name": "base",
   "language": "python",
   "name": "python3"
  },
  "language_info": {
   "name": "python",
   "version": "3.10.16"
  }
 },
 "nbformat": 4,
 "nbformat_minor": 2
}
